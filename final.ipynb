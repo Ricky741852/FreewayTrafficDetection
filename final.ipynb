{
 "cells": [
  {
   "cell_type": "code",
   "execution_count": null,
   "metadata": {},
   "outputs": [],
   "source": [
    "# Import necessary modules\n",
    "import cv2\n",
    "import numpy as np\n",
    "import matplotlib.pyplot as plt\n",
    "\n",
    "# Read in the image\n",
    "img = cv2.imread('data/background.png')\n",
    "img1 = cv2.imread('images/o_74.png')\n",
    "img2 = cv2.imread('images/m_74.png')"
   ]
  },
  {
   "cell_type": "code",
   "execution_count": null,
   "metadata": {},
   "outputs": [],
   "source": [
    "#測試\n",
    "img1= cv2.cvtColor(img1, cv2.COLOR_RGB2GRAY)\n",
    "# img2= cv2.cvtColor(img2, cv2.COLOR_RGB2GRAY)\n",
    "img1 = cv2.GaussianBlur(img1, (3, 3), 0)\n",
    "img2 = cv2.GaussianBlur(img2, (7, 7), 0)\n",
    "img1= cv2.Canny(img1, 300,150)\n",
    "# img2= cv2.Canny(img2, 300,150)\n"
   ]
  },
  {
   "cell_type": "code",
   "execution_count": null,
   "metadata": {},
   "outputs": [],
   "source": [
    "#測試\n",
    "plt.imshow(img1, cmap = 'gray')\n",
    "plt.show()"
   ]
  },
  {
   "cell_type": "code",
   "execution_count": null,
   "metadata": {},
   "outputs": [],
   "source": [
    "#測試\n",
    "plt.imshow(img2, cmap = 'gray')\n",
    "plt.show()"
   ]
  },
  {
   "cell_type": "code",
   "execution_count": null,
   "metadata": {},
   "outputs": [],
   "source": [
    "#線段數據\n",
    "lane = {\n",
    "    \"lane1\":{\n",
    "        \"top\":{\n",
    "            \"x\":529,\n",
    "            \"y\":231\n",
    "        },\n",
    "        \"bot\":{\n",
    "            \"x\":430,\n",
    "            \"y\":534\n",
    "        },\n",
    "        \"slope\":\"x=(183156-99*y)/303\"\n",
    "    },\n",
    "    \"lane2\":{\n",
    "        \"top\":{\n",
    "            \"x\":559,\n",
    "            \"y\":231\n",
    "        },\n",
    "        \"bot\":{\n",
    "            \"x\":628,\n",
    "            \"y\":534\n",
    "        },\n",
    "        \"slope\":\"x=(153438+69*y)/303\"\n",
    "    },\n",
    "    \"lane3\":{\n",
    "        \"top\":{\n",
    "            \"x\":589,\n",
    "            \"y\":231\n",
    "        },\n",
    "        \"bot\":{\n",
    "            \"x\":830,\n",
    "            \"y\":534\n",
    "        },\n",
    "        \"slope\":\"x=(138816+211*y)/303\"\n",
    "    },\n",
    "    \"lane4\":{\n",
    "        \"top\":{\n",
    "            \"x\":619,\n",
    "            \"y\":231\n",
    "        },\n",
    "        \"bot\":{\n",
    "            \"x\":958,\n",
    "            \"y\":465\n",
    "        },\n",
    "        \"slope\":\"x=(65918+339*y)/233\"\n",
    "    },\n",
    "}"
   ]
  },
  {
   "cell_type": "code",
   "execution_count": null,
   "metadata": {},
   "outputs": [],
   "source": [
    "#計算車輛位置\n",
    "def CountObject(lane):\n",
    "    index = []\n",
    "    have_object = False\n",
    "    count = 0\n",
    "    object_count = 0\n",
    "    for i in range(lane.size):\n",
    "        if not have_object:\n",
    "            if lane[i] < 100:\n",
    "                continue\n",
    "            else:\n",
    "                have_object = True\n",
    "        else:\n",
    "            if lane[i] < 40:\n",
    "                index.append(i)\n",
    "                have_object = False\n",
    "    return index\n"
   ]
  },
  {
   "cell_type": "code",
   "execution_count": null,
   "metadata": {},
   "outputs": [],
   "source": [
    "#車距違規判斷\n",
    "def validation(index):\n",
    "    if len(index)==0 or len(index)==1:\n",
    "        return \"pass\"\n",
    "    baseline = [260, 269, 282, 297, 318, 346, 395, 462]\n",
    "    count = -1\n",
    "    now_ind = False\n",
    "    danger = False\n",
    "    #所有index尋找自己在哪兩個baseline區間\n",
    "    for i in range(len(index)):\n",
    "        #尋找baseline區間\n",
    "        for j in range(1, len(baseline)):\n",
    "            if baseline[j-1] < index[i] <= baseline[j]:\n",
    "                #若index[i]在區間內，則剩餘index尋找是否有在往後推的三格區間內\n",
    "                for k in range(i+1, len(index)):\n",
    "                    for l in range(3):\n",
    "                        #若無法在往後尋找則continue\n",
    "                        if j+l >= len(baseline):\n",
    "                            continue\n",
    "                        #若真的在三格區間內找到其他index則代表danger\n",
    "                        if baseline[j-1+l] < index[k] <= baseline[j+l]:\n",
    "                            return 'danger'\n",
    "    return 'pass'"
   ]
  },
  {
   "cell_type": "code",
   "execution_count": null,
   "metadata": {},
   "outputs": [],
   "source": [
    "#主要邏輯\n",
    "def DetectLane(image):\n",
    "    lane1 = np.zeros(230)\n",
    "    lane2 = np.zeros(230)\n",
    "    lane3 = np.zeros(230)\n",
    "    lane4 = np.zeros(230)\n",
    "    for i in range(231, 535):\n",
    "        lane1 = np.append(lane1, image[i][(int)((183156-99*i)/303)])\n",
    "        lane2 = np.append(lane2, image[i][(int)((153438+69*i)/303)])\n",
    "        lane3 = np.append(lane3, image[i][(int)((138816+211*i)/303)])\n",
    "    for i in range(231, 465):\n",
    "        lane4 = np.append(lane4, image[i][(int)((65918+339*i)/233)])\n",
    "    # plt.subplot(7, 1, 1)\n",
    "    # plt.plot(lane1)\n",
    "    # plt.title('Lane1')\n",
    "    # plt.subplot(7, 1, 3)\n",
    "    # plt.plot(lane2)\n",
    "    # plt.title('Lane2')\n",
    "    # plt.subplot(7, 1, 5)\n",
    "    # plt.plot(lane3)\n",
    "    # plt.title('Lane3')\n",
    "    # plt.subplot(7, 1, 7)\n",
    "    # plt.plot(lane4)\n",
    "    # plt.title('Lane4')\n",
    "    # plt.show()\n",
    "    ind1 = CountObject(lane1)\n",
    "    ind2 = CountObject(lane2)\n",
    "    ind3 = CountObject(lane3)\n",
    "    ind4 = CountObject(lane4)\n",
    "    # print(ind1, ind2, ind3, ind4)\n",
    "    return [validation(ind1),validation(ind2),validation(ind3),validation(ind4)]"
   ]
  },
  {
   "cell_type": "code",
   "execution_count": null,
   "metadata": {},
   "outputs": [],
   "source": [
    "#計算標線位置\n",
    "def GenScole():\n",
    "    y = 282\n",
    "    x1=(int)((183156-99*y)/303)\n",
    "    x2=(int)((153438+69*y)/303)\n",
    "    x3=(int)((138816+211*y)/303)\n",
    "    x4=(int)((65918+339*y)/233)\n",
    "    print(x1, x2, x3, x4)"
   ]
  },
  {
   "cell_type": "code",
   "execution_count": null,
   "metadata": {},
   "outputs": [],
   "source": [
    "#繪製標線\n",
    "def DrawLine():\n",
    "    plt.plot([430, 529], [534, 231], color=\"red\")\n",
    "    plt.plot([628, 559], [534, 231], color=\"red\")\n",
    "    plt.plot([830, 589], [534, 231], color=\"red\")\n",
    "    plt.plot([958, 619], [465, 231], color=\"red\")\n",
    "    plt.plot([374, 957], [462, 462], color=\"yellow\", linestyle=\"--\")\n",
    "    plt.plot([418, 899], [395, 395], color=\"yellow\", linestyle=\"--\")\n",
    "    plt.plot([446, 820], [346, 346], color=\"yellow\", linestyle=\"--\")\n",
    "    plt.plot([466, 781], [318, 318], color=\"yellow\", linestyle=\"--\")\n",
    "    plt.plot([476, 730], [297, 297], color=\"yellow\", linestyle=\"--\")\n",
    "    plt.plot([486, 710], [282, 282], color=\"yellow\", linestyle=\"--\")\n",
    "    plt.plot([495, 695], [269, 269], color=\"yellow\", linestyle=\"--\")\n",
    "    plt.plot([499, 680], [260, 260], color=\"yellow\", linestyle=\"--\")"
   ]
  },
  {
   "cell_type": "code",
   "execution_count": null,
   "metadata": {},
   "outputs": [],
   "source": [
    "#測試 #debbuging with img2\n",
    "def Test(img2):\n",
    "    img2 = cv2.cvtColor(img2, cv2.COLOR_BGR2GRAY) \n",
    "    DetectLane(img2)\n",
    "    plt.imshow(img2, cmap = 'gray')\n",
    "    DrawLine()\n",
    "    plt.show()\n",
    "Test(img2)"
   ]
  },
  {
   "cell_type": "code",
   "execution_count": null,
   "metadata": {},
   "outputs": [],
   "source": [
    "#回傳顏色\n",
    "def state_color(state):\n",
    "    return (0, 255, 0) if state == 'pass' else (0, 0, 255)"
   ]
  },
  {
   "cell_type": "code",
   "execution_count": null,
   "metadata": {},
   "outputs": [],
   "source": [
    "#Main\n",
    "import os\n",
    "fourcc1 = cv2.VideoWriter_fourcc(*'MJPG')\n",
    "out1 = cv2.VideoWriter('./videos/output1.avi', fourcc1, 20.0, (960,540))\n",
    "while(1):\n",
    "    exit = False\n",
    "    for i in range (0, 134):\n",
    "        if os.path.isfile(f'./images/m_{i}.png'):\n",
    "            image_o = cv2.imread(f'./images/o_{i}.png')\n",
    "            image_m = cv2.imread(f'./images/m_{i}.png')\n",
    "            image_m = cv2.cvtColor(image_m, cv2.COLOR_BGR2GRAY)\n",
    "            image_m = cv2.GaussianBlur(image_m, (7, 7), 0)\n",
    "            state = DetectLane(image_m)\n",
    "            cv2.circle(image_o, (435, 485), 20, state_color(state[0]), -1)\n",
    "            cv2.circle(image_o, (615, 485), 20, state_color(state[1]), -1)\n",
    "            cv2.circle(image_o, (790, 485), 20, state_color(state[2]), -1)\n",
    "            cv2.circle(image_o, (905, 440), 20, state_color(state[3]), -1)\n",
    "            out1.write(image_o)\n",
    "            cv2.imshow('Predict', image_o)\n",
    "            if cv2.waitKey(1) & 0xFF == 27:\n",
    "                exit = True\n",
    "                break\n",
    "            \n",
    "        if i == 133:\n",
    "            exit = True\n",
    "            break\n",
    "    if exit:\n",
    "        break\n",
    "out1.release()\n",
    "cv2.destroyAllWindows()"
   ]
  }
 ],
 "metadata": {
  "kernelspec": {
   "display_name": "base",
   "language": "python",
   "name": "python3"
  },
  "language_info": {
   "codemirror_mode": {
    "name": "ipython",
    "version": 3
   },
   "file_extension": ".py",
   "mimetype": "text/x-python",
   "name": "python",
   "nbconvert_exporter": "python",
   "pygments_lexer": "ipython3",
   "version": "3.9.12"
  },
  "orig_nbformat": 4,
  "vscode": {
   "interpreter": {
    "hash": "709221cd6e8e8bb1271bebb288222f3d75e028518a70d134b83bcc07aeaab82d"
   }
  }
 },
 "nbformat": 4,
 "nbformat_minor": 2
}
