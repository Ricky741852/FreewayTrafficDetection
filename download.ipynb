{
 "cells": [
  {
   "cell_type": "code",
   "execution_count": 9,
   "metadata": {},
   "outputs": [],
   "source": [
    "# Import necessary modules\n",
    "import cv2\n",
    "import numpy as np\n",
    "import matplotlib.pyplot as plt\n",
    "import os"
   ]
  },
  {
   "cell_type": "code",
   "execution_count": 10,
   "metadata": {},
   "outputs": [
    {
     "name": "stdout",
     "output_type": "stream",
     "text": [
      "Ignoring empty camera frame.\n"
     ]
    }
   ],
   "source": [
    "cap = cv2.VideoCapture(\"https://cctvc.freeway.gov.tw/abs2mjpg/bmjpg?camera=498\")\n",
    "fourcc1 = cv2.VideoWriter_fourcc(*'MJPG')\n",
    "fourcc2 = cv2.VideoWriter_fourcc(*'MJPG')\n",
    "# out1 = cv2.VideoWriter('output1.avi', fourcc1, 20.0, (960,540))\n",
    "# out2 = cv2.VideoWriter('output2.avi', fourcc2, 20.0, (960,540))\n",
    "fgbg = cv2.createBackgroundSubtractorMOG2(varThreshold=10)\n",
    "count = 0\n",
    "while cap.isOpened():\n",
    "    success, frame = cap.read()\n",
    "    if not success:\n",
    "      print(\"Ignoring empty camera frame.\")\n",
    "      break\n",
    "    frame = cv2.resize(frame,(960,540))\n",
    "    # cv2.imwrite(os.path.join(\"images\", 'o_%d.png') % count, frame)\n",
    "    # out1.write(frame)\n",
    "\n",
    "    fgmask = fgbg.apply(frame)\n",
    "    fgmask_out = cv2.cvtColor(fgmask, cv2.COLOR_GRAY2BGR)\n",
    "    # cv2.imwrite(os.path.join(\"images\", 'm_%d.png') % count, fgmask_out)\n",
    "    # out2.write(fgmask_out)\n",
    "\n",
    "    count += 1\n",
    "    cv2.imshow('frame', frame)\n",
    "    cv2.imshow('fgmask', fgmask)\n",
    "    if cv2.waitKey(1) & 0xFF == 27:\n",
    "        break\n",
    "cap.release()\n",
    "# out1.release()\n",
    "# out2.release()\n",
    "cv2.destroyAllWindows()"
   ]
  }
 ],
 "metadata": {
  "kernelspec": {
   "display_name": "Python 3.9.12 ('base')",
   "language": "python",
   "name": "python3"
  },
  "language_info": {
   "codemirror_mode": {
    "name": "ipython",
    "version": 3
   },
   "file_extension": ".py",
   "mimetype": "text/x-python",
   "name": "python",
   "nbconvert_exporter": "python",
   "pygments_lexer": "ipython3",
   "version": "3.9.12"
  },
  "orig_nbformat": 4,
  "vscode": {
   "interpreter": {
    "hash": "df5a47594a4c7fa77718041c239adbe925734d95d528854ea959dd8eef4ca91e"
   }
  }
 },
 "nbformat": 4,
 "nbformat_minor": 2
}
